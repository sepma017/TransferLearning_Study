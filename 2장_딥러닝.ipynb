{
  "nbformat": 4,
  "nbformat_minor": 0,
  "metadata": {
    "colab": {
      "name": "2장 딥러닝.ipynb",
      "provenance": [],
      "collapsed_sections": [],
      "authorship_tag": "ABX9TyNSXwYeODFuWxaOGbj9GEjQ"
    },
    "kernelspec": {
      "name": "python3",
      "display_name": "Python 3"
    },
    "language_info": {
      "name": "python"
    }
  },
  "cells": [
    {
      "cell_type": "markdown",
      "source": [
        "# 2장 딥러닝"
      ],
      "metadata": {
        "id": "QZZFMq8pUNAO"
      }
    },
    {
      "cell_type": "code",
      "execution_count": 44,
      "metadata": {
        "id": "BkyZRRTHTwzE"
      },
      "outputs": [],
      "source": [
        "import pandas as pd\n",
        "import numpy as np\n",
        "import string\n",
        "import os\n",
        "import sys\n",
        "import random\n",
        "from sklearn.model_selection import train_test_split\n",
        "from sklearn.preprocessing import StandardScaler\n",
        "import matplotlib.pyplot as plt"
      ]
    },
    {
      "cell_type": "markdown",
      "source": [
        "### 식사 항목의 가격 문제"
      ],
      "metadata": {
        "id": "aj0hMxzKUKsi"
      }
    },
    {
      "cell_type": "code",
      "source": [
        "# 계산대에서의 진짜 가격\n",
        "p_fish = 150;p_chips = 50;p_ketchup = 100"
      ],
      "metadata": {
        "id": "S9SYm6cpUJIB"
      },
      "execution_count": 45,
      "outputs": []
    },
    {
      "cell_type": "code",
      "source": [
        "# 식사 가격 샘플: 10일 동안의 식사 가격 일반화 데이터\n",
        "np.random.seed(100)\n",
        "portions = np.random.randint(low=1, high=10, size=3 )\n",
        "portions\n",
        "X = [];y = [];days=10\n",
        "for i in range(days):\n",
        "    portions = np.random.randint(low=1, high=10, size=3 )\n",
        "    price = p_fish * portions[0] + p_chips * portions[1] + p_ketchup * portions[2]    \n",
        "    X.append(portions)\n",
        "    y.append(price)\n",
        "    \n",
        "X = np.array(X)\n",
        "y = np.array(y)"
      ],
      "metadata": {
        "id": "qHQHAaQjUYb_"
      },
      "execution_count": 46,
      "outputs": []
    },
    {
      "cell_type": "code",
      "source": [
        "print(X, y)"
      ],
      "metadata": {
        "colab": {
          "base_uri": "https://localhost:8080/"
        },
        "id": "wo2Ih5T5VMEK",
        "outputId": "4b6a5472-c6d1-49dd-c720-e88e2b7f885e"
      },
      "execution_count": 47,
      "outputs": [
        {
          "output_type": "stream",
          "name": "stdout",
          "text": [
            "[[8 8 1]\n",
            " [5 3 6]\n",
            " [3 3 3]\n",
            " [2 1 9]\n",
            " [5 1 7]\n",
            " [3 5 2]\n",
            " [6 4 5]\n",
            " [5 4 8]\n",
            " [2 2 8]\n",
            " [8 1 3]] [1700 1500  900 1250 1500  900 1600 1750 1200 1550]\n"
          ]
        }
      ]
    },
    {
      "cell_type": "code",
      "source": [
        "# 선형모형 만들기\n",
        "from tensorflow.keras.layers import Input, Dense, Activation\n",
        "from tensorflow.keras.models import Model\n",
        "from tensorflow.keras.optimizers import SGD \n",
        "from tensorflow.keras.callbacks import Callback"
      ],
      "metadata": {
        "id": "Be2LXTyTVt3f"
      },
      "execution_count": 48,
      "outputs": []
    },
    {
      "cell_type": "code",
      "source": [
        "price_guess = [np.array([[ 50 ], [   50], [  50 ]])]"
      ],
      "metadata": {
        "id": "T2F6fgqjWFcp"
      },
      "execution_count": 49,
      "outputs": []
    },
    {
      "cell_type": "code",
      "source": [
        "model_input = Input(shape=(3,), dtype='float32')\n",
        "model_output = Dense(1, activation='linear', use_bias=False, name='LinearNeuron', weights=price_guess)(model_input)\n",
        "sgd = SGD(lr=0.01)\n",
        "model = Model(model_input, model_output)\n",
        "model.compile(loss=\"mean_squared_error\", optimizer=sgd)"
      ],
      "metadata": {
        "colab": {
          "base_uri": "https://localhost:8080/"
        },
        "id": "ua-af79yWSBH",
        "outputId": "9a292c92-9fa5-440a-b698-6c21de15d74a"
      },
      "execution_count": 50,
      "outputs": [
        {
          "output_type": "stream",
          "name": "stderr",
          "text": [
            "/usr/local/lib/python3.7/dist-packages/keras/optimizer_v2/gradient_descent.py:102: UserWarning: The `lr` argument is deprecated, use `learning_rate` instead.\n",
            "  super(SGD, self).__init__(name, **kwargs)\n"
          ]
        }
      ]
    },
    {
      "cell_type": "code",
      "source": [
        "model.summary()"
      ],
      "metadata": {
        "colab": {
          "base_uri": "https://localhost:8080/"
        },
        "id": "5aBVWrHkWxux",
        "outputId": "78ee0bb5-73b6-4ee7-bfd3-69b32a6cd903"
      },
      "execution_count": 51,
      "outputs": [
        {
          "output_type": "stream",
          "name": "stdout",
          "text": [
            "Model: \"model_4\"\n",
            "_________________________________________________________________\n",
            " Layer (type)                Output Shape              Param #   \n",
            "=================================================================\n",
            " input_4 (InputLayer)        [(None, 3)]               0         \n",
            "                                                                 \n",
            " LinearNeuron (Dense)        (None, 1)                 3         \n",
            "                                                                 \n",
            "=================================================================\n",
            "Total params: 3\n",
            "Trainable params: 3\n",
            "Non-trainable params: 0\n",
            "_________________________________________________________________\n"
          ]
        }
      ]
    },
    {
      "cell_type": "code",
      "source": [
        "history = model.fit(X, y, batch_size=20, epochs=30, verbose=2)\n",
        "l4 = history.history['loss']"
      ],
      "metadata": {
        "colab": {
          "base_uri": "https://localhost:8080/"
        },
        "id": "fdU7BpmzW1uf",
        "outputId": "421dff85-83c7-4ec0-fab5-d12a8793e1b4"
      },
      "execution_count": 52,
      "outputs": [
        {
          "output_type": "stream",
          "name": "stdout",
          "text": [
            "Epoch 1/30\n",
            "1/1 - 0s - loss: 566500.0000 - 334ms/epoch - 334ms/step\n",
            "Epoch 2/30\n",
            "1/1 - 0s - loss: 38576.1914 - 5ms/epoch - 5ms/step\n",
            "Epoch 3/30\n",
            "1/1 - 0s - loss: 9320.0137 - 6ms/epoch - 6ms/step\n",
            "Epoch 4/30\n",
            "1/1 - 0s - loss: 6873.8545 - 4ms/epoch - 4ms/step\n",
            "Epoch 5/30\n",
            "1/1 - 0s - loss: 5998.2471 - 4ms/epoch - 4ms/step\n",
            "Epoch 6/30\n",
            "1/1 - 0s - loss: 5313.0713 - 6ms/epoch - 6ms/step\n",
            "Epoch 7/30\n",
            "1/1 - 0s - loss: 4722.4741 - 3ms/epoch - 3ms/step\n",
            "Epoch 8/30\n",
            "1/1 - 0s - loss: 4205.7593 - 4ms/epoch - 4ms/step\n",
            "Epoch 9/30\n",
            "1/1 - 0s - loss: 3750.5215 - 4ms/epoch - 4ms/step\n",
            "Epoch 10/30\n",
            "1/1 - 0s - loss: 3347.5742 - 4ms/epoch - 4ms/step\n",
            "Epoch 11/30\n",
            "1/1 - 0s - loss: 2989.7480 - 4ms/epoch - 4ms/step\n",
            "Epoch 12/30\n",
            "1/1 - 0s - loss: 2671.2874 - 4ms/epoch - 4ms/step\n",
            "Epoch 13/30\n",
            "1/1 - 0s - loss: 2387.4246 - 4ms/epoch - 4ms/step\n",
            "Epoch 14/30\n",
            "1/1 - 0s - loss: 2134.1440 - 7ms/epoch - 7ms/step\n",
            "Epoch 15/30\n",
            "1/1 - 0s - loss: 1907.9801 - 4ms/epoch - 4ms/step\n",
            "Epoch 16/30\n",
            "1/1 - 0s - loss: 1705.9332 - 4ms/epoch - 4ms/step\n",
            "Epoch 17/30\n",
            "1/1 - 0s - loss: 1525.3826 - 6ms/epoch - 6ms/step\n",
            "Epoch 18/30\n",
            "1/1 - 0s - loss: 1363.9933 - 5ms/epoch - 5ms/step\n",
            "Epoch 19/30\n",
            "1/1 - 0s - loss: 1219.7112 - 6ms/epoch - 6ms/step\n",
            "Epoch 20/30\n",
            "1/1 - 0s - loss: 1090.7139 - 20ms/epoch - 20ms/step\n",
            "Epoch 21/30\n",
            "1/1 - 0s - loss: 975.3729 - 5ms/epoch - 5ms/step\n",
            "Epoch 22/30\n",
            "1/1 - 0s - loss: 872.2349 - 5ms/epoch - 5ms/step\n",
            "Epoch 23/30\n",
            "1/1 - 0s - loss: 780.0092 - 4ms/epoch - 4ms/step\n",
            "Epoch 24/30\n",
            "1/1 - 0s - loss: 697.5368 - 4ms/epoch - 4ms/step\n",
            "Epoch 25/30\n",
            "1/1 - 0s - loss: 623.7870 - 4ms/epoch - 4ms/step\n",
            "Epoch 26/30\n",
            "1/1 - 0s - loss: 557.8364 - 4ms/epoch - 4ms/step\n",
            "Epoch 27/30\n",
            "1/1 - 0s - loss: 498.8559 - 8ms/epoch - 8ms/step\n",
            "Epoch 28/30\n",
            "1/1 - 0s - loss: 446.1160 - 6ms/epoch - 6ms/step\n",
            "Epoch 29/30\n",
            "1/1 - 0s - loss: 398.9498 - 4ms/epoch - 4ms/step\n",
            "Epoch 30/30\n",
            "1/1 - 0s - loss: 356.7709 - 5ms/epoch - 5ms/step\n"
          ]
        }
      ]
    },
    {
      "cell_type": "code",
      "source": [
        "model.get_layer('LinearNeuron').get_weights()"
      ],
      "metadata": {
        "colab": {
          "base_uri": "https://localhost:8080/"
        },
        "id": "wxft30rOXCVP",
        "outputId": "0296e712-5ada-4533-8ae7-b70e3b687008"
      },
      "execution_count": 53,
      "outputs": [
        {
          "output_type": "execute_result",
          "data": {
            "text/plain": [
              "[array([[143.07005 ],\n",
              "        [ 58.228096],\n",
              "        [101.30583 ]], dtype=float32)]"
            ]
          },
          "metadata": {},
          "execution_count": 53
        }
      ]
    },
    {
      "cell_type": "code",
      "source": [
        "print(history.history.keys())\n",
        "# plt.plot(l1)\n",
        "# plt.plot(l2)\n",
        "# plt.plot(l3)\n",
        "plt.plot(l4)\n",
        "\n",
        "plt.ylabel('mean squared error')\n",
        "plt.xlabel('epoch')\n",
        "plt.legend([\"LR=0.0001\", \"LR=0.001\", \"LR=0.01\"])\n",
        "plt.show()"
      ],
      "metadata": {
        "colab": {
          "base_uri": "https://localhost:8080/",
          "height": 298
        },
        "id": "aV0mD3V0XZ7H",
        "outputId": "ead2d853-4bbf-4673-fc0f-4d866261a5e7"
      },
      "execution_count": 54,
      "outputs": [
        {
          "output_type": "stream",
          "name": "stdout",
          "text": [
            "dict_keys(['loss'])\n"
          ]
        },
        {
          "output_type": "display_data",
          "data": {
            "text/plain": [
              "<Figure size 432x288 with 1 Axes>"
            ],
            "image/png": "[encoded data removed]"
          },
          "metadata": {
            "needs_background": "light"
          }
        }
      ]
    },
    {
      "cell_type": "markdown",
      "source": [
        "- 케라스에서 XOR 문제"
      ],
      "metadata": {
        "id": "oveHhASWFiVa"
      }
    },
    {
      "cell_type": "code",
      "source": [
        "X = np.array([[0,0],[0,1],[1,0],[1,1]])\n",
        "y = np.array([[0],[1],[1],[0]])"
      ],
      "metadata": {
        "id": "F1inL-chXpEh"
      },
      "execution_count": 55,
      "outputs": []
    },
    {
      "cell_type": "code",
      "source": [
        "#XOR 는 선형으로 분리가능한 문제가 아니다.\n",
        "#선형 모델에 비선형층을 추가하면 작동하지 않는다.\n",
        "\n",
        "\n",
        "model_input = Input(shape=(2,), dtype='float32')\n",
        "z = Dense(2,name='HiddenLayer', kernel_initializer='ones', activation='relu')(model_input)\n",
        "#z = Activation('relu')(z)\n",
        "z = Dense(1, name='OutputLayer')(z)\n",
        "model_output = Activation('sigmoid')(z)\n",
        "model = Model(model_input, model_output)\n",
        "#model.summary()"
      ],
      "metadata": {
        "id": "vojaj9VhF0CC"
      },
      "execution_count": 56,
      "outputs": []
    },
    {
      "cell_type": "code",
      "source": [
        "sgd = SGD(lr=0.5)\n",
        "#model.compile(loss=\"mse\", optimizer=sgd)\n",
        "model.compile(loss=\"binary_crossentropy\", optimizer=sgd)"
      ],
      "metadata": {
        "colab": {
          "base_uri": "https://localhost:8080/"
        },
        "id": "ndYPpg8EGxgu",
        "outputId": "53b95790-77e7-4b7b-dfd1-c2ee25d35cb6"
      },
      "execution_count": 57,
      "outputs": [
        {
          "output_type": "stream",
          "name": "stderr",
          "text": [
            "/usr/local/lib/python3.7/dist-packages/keras/optimizer_v2/gradient_descent.py:102: UserWarning: The `lr` argument is deprecated, use `learning_rate` instead.\n",
            "  super(SGD, self).__init__(name, **kwargs)\n"
          ]
        }
      ]
    },
    {
      "cell_type": "code",
      "source": [
        "model.fit(X, y, batch_size=4, epochs=200,verbose=0)\n",
        "preds = np.round(model.predict(X),decimals=3)\n",
        "pd.DataFrame({'Y_actual':list(y), 'Predictions':list(preds)})"
      ],
      "metadata": {
        "colab": {
          "base_uri": "https://localhost:8080/",
          "height": 174
        },
        "id": "lSLmoH6YHCKU",
        "outputId": "a3b6d2be-1ef0-4b64-ac0b-83e5c823939b"
      },
      "execution_count": 58,
      "outputs": [
        {
          "output_type": "execute_result",
          "data": {
            "text/plain": [
              "  Y_actual Predictions\n",
              "0      [0]     [0.129]\n",
              "1      [1]     [0.963]\n",
              "2      [1]     [0.963]\n",
              "3      [0]     [0.027]"
            ],
            "text/html": [
              "\n",
              "  <div id=\"df-92d26dfd-47a2-4e23-a986-82b3b681500d\">\n",
              "    <div class=\"colab-df-container\">\n",
              "      <div>\n",
              "<style scoped>\n",
              "    .dataframe tbody tr th:only-of-type {\n",
              "        vertical-align: middle;\n",
              "    }\n",
              "\n",
              "    .dataframe tbody tr th {\n",
              "        vertical-align: top;\n",
              "    }\n",
              "\n",
              "    .dataframe thead th {\n",
              "        text-align: right;\n",
              "    }\n",
              "</style>\n",
              "<table border=\"1\" class=\"dataframe\">\n",
              "  <thead>\n",
              "    <tr style=\"text-align: right;\">\n",
              "      <th></th>\n",
              "      <th>Y_actual</th>\n",
              "      <th>Predictions</th>\n",
              "    </tr>\n",
              "  </thead>\n",
              "  <tbody>\n",
              "    <tr>\n",
              "      <th>0</th>\n",
              "      <td>[0]</td>\n",
              "      <td>[0.129]</td>\n",
              "    </tr>\n",
              "    <tr>\n",
              "      <th>1</th>\n",
              "      <td>[1]</td>\n",
              "      <td>[0.963]</td>\n",
              "    </tr>\n",
              "    <tr>\n",
              "      <th>2</th>\n",
              "      <td>[1]</td>\n",
              "      <td>[0.963]</td>\n",
              "    </tr>\n",
              "    <tr>\n",
              "      <th>3</th>\n",
              "      <td>[0]</td>\n",
              "      <td>[0.027]</td>\n",
              "    </tr>\n",
              "  </tbody>\n",
              "</table>\n",
              "</div>\n",
              "      <button class=\"colab-df-convert\" onclick=\"convertToInteractive('df-92d26dfd-47a2-4e23-a986-82b3b681500d')\"\n",
              "              title=\"Convert this dataframe to an interactive table.\"\n",
              "              style=\"display:none;\">\n",
              "        \n",
              "  <svg xmlns=\"http://www.w3.org/2000/svg\" height=\"24px\"viewBox=\"0 0 24 24\"\n",
              "       width=\"24px\">\n",
              "    <path d=\"M0 0h24v24H0V0z\" fill=\"none\"/>\n",
              "    <path d=\"M18.56 5.44l.94 2.06.94-2.06 2.06-.94-2.06-.94-.94-2.06-.94 2.06-2.06.94zm-11 1L8.5 8.5l.94-2.06 2.06-.94-2.06-.94L8.5 2.5l-.94 2.06-2.06.94zm10 10l.94 2.06.94-2.06 2.06-.94-2.06-.94-.94-2.06-.94 2.06-2.06.94z\"/><path d=\"M17.41 7.96l-1.37-1.37c-.4-.4-.92-.59-1.43-.59-.52 0-1.04.2-1.43.59L10.3 9.45l-7.72 7.72c-.78.78-.78 2.05 0 2.83L4 21.41c.39.39.9.59 1.41.59.51 0 1.02-.2 1.41-.59l7.78-7.78 2.81-2.81c.8-.78.8-2.07 0-2.86zM5.41 20L4 18.59l7.72-7.72 1.47 1.35L5.41 20z\"/>\n",
              "  </svg>\n",
              "      </button>\n",
              "      \n",
              "  <style>\n",
              "    .colab-df-container {\n",
              "      display:flex;\n",
              "      flex-wrap:wrap;\n",
              "      gap: 12px;\n",
              "    }\n",
              "\n",
              "    .colab-df-convert {\n",
              "      background-color: #E8F0FE;\n",
              "      border: none;\n",
              "      border-radius: 50%;\n",
              "      cursor: pointer;\n",
              "      display: none;\n",
              "      fill: #1967D2;\n",
              "      height: 32px;\n",
              "      padding: 0 0 0 0;\n",
              "      width: 32px;\n",
              "    }\n",
              "\n",
              "    .colab-df-convert:hover {\n",
              "      background-color: #E2EBFA;\n",
              "      box-shadow: 0px 1px 2px rgba(60, 64, 67, 0.3), 0px 1px 3px 1px rgba(60, 64, 67, 0.15);\n",
              "      fill: #174EA6;\n",
              "    }\n",
              "\n",
              "    [theme=dark] .colab-df-convert {\n",
              "      background-color: #3B4455;\n",
              "      fill: #D2E3FC;\n",
              "    }\n",
              "\n",
              "    [theme=dark] .colab-df-convert:hover {\n",
              "      background-color: #434B5C;\n",
              "      box-shadow: 0px 1px 3px 1px rgba(0, 0, 0, 0.15);\n",
              "      filter: drop-shadow(0px 1px 2px rgba(0, 0, 0, 0.3));\n",
              "      fill: #FFFFFF;\n",
              "    }\n",
              "  </style>\n",
              "\n",
              "      <script>\n",
              "        const buttonEl =\n",
              "          document.querySelector('#df-92d26dfd-47a2-4e23-a986-82b3b681500d button.colab-df-convert');\n",
              "        buttonEl.style.display =\n",
              "          google.colab.kernel.accessAllowed ? 'block' : 'none';\n",
              "\n",
              "        async function convertToInteractive(key) {\n",
              "          const element = document.querySelector('#df-92d26dfd-47a2-4e23-a986-82b3b681500d');\n",
              "          const dataTable =\n",
              "            await google.colab.kernel.invokeFunction('convertToInteractive',\n",
              "                                                     [key], {});\n",
              "          if (!dataTable) return;\n",
              "\n",
              "          const docLinkHtml = 'Like what you see? Visit the ' +\n",
              "            '<a target=\"_blank\" href=https://colab.research.google.com/notebooks/data_table.ipynb>data table notebook</a>'\n",
              "            + ' to learn more about interactive tables.';\n",
              "          element.innerHTML = '';\n",
              "          dataTable['output_type'] = 'display_data';\n",
              "          await google.colab.output.renderOutput(dataTable, element);\n",
              "          const docLink = document.createElement('div');\n",
              "          docLink.innerHTML = docLinkHtml;\n",
              "          element.appendChild(docLink);\n",
              "        }\n",
              "      </script>\n",
              "    </div>\n",
              "  </div>\n",
              "  "
            ]
          },
          "metadata": {},
          "execution_count": 58
        }
      ]
    },
    {
      "cell_type": "code",
      "source": [
        "model.get_weights()"
      ],
      "metadata": {
        "colab": {
          "base_uri": "https://localhost:8080/"
        },
        "id": "tqXRlu3sHRNB",
        "outputId": "38b6083d-f948-4dd6-f680-7f0070002ed9"
      },
      "execution_count": 59,
      "outputs": [
        {
          "output_type": "execute_result",
          "data": {
            "text/plain": [
              "[array([[2.0154455, 2.7379417],\n",
              "        [2.0154455, 2.7379417]], dtype=float32),\n",
              " array([-0.02183903, -2.761427  ], dtype=float32),\n",
              " array([[ 2.5930507],\n",
              "        [-4.4518275]], dtype=float32),\n",
              " array([-1.9115937], dtype=float32)]"
            ]
          },
          "metadata": {},
          "execution_count": 59
        }
      ]
    },
    {
      "cell_type": "code",
      "source": [
        "hidden_layer_output = Model(inputs=model.input, outputs=model.get_layer('HiddenLayer').output)"
      ],
      "metadata": {
        "id": "_dnGksp-Hx_9"
      },
      "execution_count": 60,
      "outputs": []
    },
    {
      "cell_type": "code",
      "source": [
        "projection = hidden_layer_output.predict(X)"
      ],
      "metadata": {
        "id": "TAxGpLbNH9w7"
      },
      "execution_count": 61,
      "outputs": []
    },
    {
      "cell_type": "code",
      "source": [
        "for i in range(4):\n",
        "    print(X[i], projection[i])"
      ],
      "metadata": {
        "colab": {
          "base_uri": "https://localhost:8080/"
        },
        "id": "e98rrTH4IEGq",
        "outputId": "88128f59-3beb-427d-d853-1ceb27ce5829"
      },
      "execution_count": 62,
      "outputs": [
        {
          "output_type": "stream",
          "name": "stdout",
          "text": [
            "[0 0] [0. 0.]\n",
            "[0 1] [1.9936064 0.       ]\n",
            "[1 0] [1.9936064 0.       ]\n",
            "[1 1] [4.009052  2.7144566]\n"
          ]
        }
      ]
    },
    {
      "cell_type": "code",
      "source": [
        "import matplotlib.pyplot as plt"
      ],
      "metadata": {
        "id": "hE96VFSnIIBP"
      },
      "execution_count": 63,
      "outputs": []
    },
    {
      "cell_type": "code",
      "source": [
        "fig = plt.figure(figsize=(5, 10))\n",
        "ax = fig.add_subplot(211)\n",
        "plt.scatter(x=projection[:, 0], y=projection[:, 1], c=('g'))\n",
        "\n",
        "ax.set_xlabel('X axis (h1)')\n",
        "ax.set_ylabel('Y axis (h2)')\n",
        "ax.set_label('Transformed Space')\n",
        "\n",
        "# 입력을 선형으로 분리가능하게 변환하는 은닉층\n",
        "x1, y1 = [projection[0, 0]-0.5, projection[3, 0]], [projection[0, 1]+0.5, projection[3, 1]+0.5]\n",
        "plt.plot(x1, y1)\n",
        "for i, inputx in enumerate(X):\n",
        "    ax.annotate(str(inputx), (projection[i, 0]+0.1, projection[i, 1]))\n",
        "ax = fig.add_subplot(212)\n",
        "ax.set_label('Original Space')\n",
        "plt.scatter(x=X[:, 0], y=X[:, 1], c=('b'))\n",
        "for i, inputx in enumerate(X):\n",
        "    ax.annotate(str(inputx), (X[i, 0]+0.05, X[i, 1]))"
      ],
      "metadata": {
        "colab": {
          "base_uri": "https://localhost:8080/",
          "height": 592
        },
        "id": "izv9Rv1nkqrl",
        "outputId": "48cc5e35-0a37-4ace-f4d0-6ca4e036fb0b"
      },
      "execution_count": 64,
      "outputs": [
        {
          "output_type": "display_data",
          "data": {
            "text/plain": [
              "<Figure size 360x720 with 2 Axes>"
            ],
            "image/png": "[encoded data removed]"
          },
          "metadata": {
            "needs_background": "light"
          }
        }
      ]
    },
    {
      "cell_type": "code",
      "source": [
        "plt.show()"
      ],
      "metadata": {
        "id": "aQIiwtIVlxN1"
      },
      "execution_count": 65,
      "outputs": []
    },
    {
      "cell_type": "code",
      "source": [
        "projection"
      ],
      "metadata": {
        "colab": {
          "base_uri": "https://localhost:8080/"
        },
        "id": "cxLCQ61ll4Uj",
        "outputId": "1363df51-335e-4af5-bda2-2325f2def237"
      },
      "execution_count": 66,
      "outputs": [
        {
          "output_type": "execute_result",
          "data": {
            "text/plain": [
              "array([[0.       , 0.       ],\n",
              "       [1.9936064, 0.       ],\n",
              "       [1.9936064, 0.       ],\n",
              "       [4.009052 , 2.7144566]], dtype=float32)"
            ]
          },
          "metadata": {},
          "execution_count": 66
        }
      ]
    },
    {
      "cell_type": "code",
      "source": [
        "# Logistic neuron: Logistic regression"
      ],
      "metadata": {
        "id": "_GB6ns6el5kV"
      },
      "execution_count": 67,
      "outputs": []
    },
    {
      "cell_type": "code",
      "source": [
        "from sklearn.datasets import load_breast_cancer\n",
        "data = load_breast_cancer()"
      ],
      "metadata": {
        "id": "nLhmbns9l9mc"
      },
      "execution_count": 68,
      "outputs": []
    },
    {
      "cell_type": "code",
      "source": [
        "X = data.data\n",
        "y = data.target"
      ],
      "metadata": {
        "id": "0WcZ--sAmDH8"
      },
      "execution_count": 69,
      "outputs": []
    },
    {
      "cell_type": "code",
      "source": [
        "X_train, X_test, y_train, y_test = train_test_split(X, y, test_size=0.30, random_state = 42)"
      ],
      "metadata": {
        "id": "tQK-ExDqmGWu"
      },
      "execution_count": 70,
      "outputs": []
    },
    {
      "cell_type": "code",
      "source": [
        "X_train.shape"
      ],
      "metadata": {
        "colab": {
          "base_uri": "https://localhost:8080/"
        },
        "id": "AYAplWytolWF",
        "outputId": "f2995615-5156-4819-aaa3-c12b6bec5439"
      },
      "execution_count": 71,
      "outputs": [
        {
          "output_type": "execute_result",
          "data": {
            "text/plain": [
              "(398, 30)"
            ]
          },
          "metadata": {},
          "execution_count": 71
        }
      ]
    },
    {
      "cell_type": "code",
      "source": [
        "model_input = Input(shape=(30, ), dtype='float32')\n",
        "model_output = Dense(1, activation='sigmoid', name='SigmoidNeuron')(model_input)\n",
        "sgd = SGD(lr=0.01)\n",
        "model = Model(model_input, model_output)\n",
        "model.compile(loss=\"binary_crossentropy\", optimizer=sgd, metrics=[\"accuracy\"])"
      ],
      "metadata": {
        "colab": {
          "base_uri": "https://localhost:8080/"
        },
        "id": "EzQ79Q4Zsv10",
        "outputId": "d2ca75be-c6c5-4f22-a6cc-213cafa520cc"
      },
      "execution_count": 72,
      "outputs": [
        {
          "output_type": "stream",
          "name": "stderr",
          "text": [
            "/usr/local/lib/python3.7/dist-packages/keras/optimizer_v2/gradient_descent.py:102: UserWarning: The `lr` argument is deprecated, use `learning_rate` instead.\n",
            "  super(SGD, self).__init__(name, **kwargs)\n"
          ]
        }
      ]
    },
    {
      "cell_type": "code",
      "source": [
        "scaler = StandardScaler()\n",
        "model.fit(scaler.fit_transform(X_train), y_train, batch_size=10, epochs=5,verbose=2,\n",
        "          validation_data=(scaler.fit_transform(X_test), y_test))"
      ],
      "metadata": {
        "colab": {
          "base_uri": "https://localhost:8080/"
        },
        "id": "hKYGt827tNXb",
        "outputId": "9fe822cb-73d6-410a-e647-1026816e81eb"
      },
      "execution_count": 73,
      "outputs": [
        {
          "output_type": "stream",
          "name": "stdout",
          "text": [
            "Epoch 1/5\n",
            "40/40 - 1s - loss: 0.4409 - accuracy: 0.8467 - val_loss: 0.3347 - val_accuracy: 0.9474 - 546ms/epoch - 14ms/step\n",
            "Epoch 2/5\n",
            "40/40 - 0s - loss: 0.2999 - accuracy: 0.9246 - val_loss: 0.2508 - val_accuracy: 0.9708 - 95ms/epoch - 2ms/step\n",
            "Epoch 3/5\n",
            "40/40 - 0s - loss: 0.2448 - accuracy: 0.9548 - val_loss: 0.2081 - val_accuracy: 0.9708 - 82ms/epoch - 2ms/step\n",
            "Epoch 4/5\n",
            "40/40 - 0s - loss: 0.2137 - accuracy: 0.9623 - val_loss: 0.1814 - val_accuracy: 0.9766 - 85ms/epoch - 2ms/step\n",
            "Epoch 5/5\n",
            "40/40 - 0s - loss: 0.1932 - accuracy: 0.9673 - val_loss: 0.1629 - val_accuracy: 0.9825 - 131ms/epoch - 3ms/step\n"
          ]
        },
        {
          "output_type": "execute_result",
          "data": {
            "text/plain": [
              "<keras.callbacks.History at 0x7f86192ef0d0>"
            ]
          },
          "metadata": {},
          "execution_count": 73
        }
      ]
    },
    {
      "cell_type": "code",
      "source": [
        "!pip3 install -U scikit-learn"
      ],
      "metadata": {
        "colab": {
          "base_uri": "https://localhost:8080/"
        },
        "id": "FcHc1tS9uTD4",
        "outputId": "fd11f74f-6991-481e-a082-4dda2fb35f6d"
      },
      "execution_count": 74,
      "outputs": [
        {
          "output_type": "stream",
          "name": "stdout",
          "text": [
            "Requirement already satisfied: scikit-learn in /usr/local/lib/python3.7/dist-packages (1.0.2)\n",
            "Requirement already satisfied: numpy>=1.14.6 in /usr/local/lib/python3.7/dist-packages (from scikit-learn) (1.21.5)\n",
            "Requirement already satisfied: scipy>=1.1.0 in /usr/local/lib/python3.7/dist-packages (from scikit-learn) (1.7.3)\n",
            "Requirement already satisfied: joblib>=0.11 in /usr/local/lib/python3.7/dist-packages (from scikit-learn) (1.1.0)\n",
            "Requirement already satisfied: threadpoolctl>=2.0.0 in /usr/local/lib/python3.7/dist-packages (from scikit-learn) (3.1.0)\n"
          ]
        }
      ]
    },
    {
      "cell_type": "code",
      "source": [
        "!pip3 install sklearn"
      ],
      "metadata": {
        "id": "HX1ZVPWkxcW-",
        "outputId": "f0a126e3-f0c9-483a-a39f-fc79a83d71d5",
        "colab": {
          "base_uri": "https://localhost:8080/"
        }
      },
      "execution_count": 75,
      "outputs": [
        {
          "output_type": "stream",
          "name": "stdout",
          "text": [
            "Requirement already satisfied: sklearn in /usr/local/lib/python3.7/dist-packages (0.0)\n",
            "Requirement already satisfied: scikit-learn in /usr/local/lib/python3.7/dist-packages (from sklearn) (1.0.2)\n",
            "Requirement already satisfied: numpy>=1.14.6 in /usr/local/lib/python3.7/dist-packages (from scikit-learn->sklearn) (1.21.5)\n",
            "Requirement already satisfied: scipy>=1.1.0 in /usr/local/lib/python3.7/dist-packages (from scikit-learn->sklearn) (1.7.3)\n",
            "Requirement already satisfied: threadpoolctl>=2.0.0 in /usr/local/lib/python3.7/dist-packages (from scikit-learn->sklearn) (3.1.0)\n",
            "Requirement already satisfied: joblib>=0.11 in /usr/local/lib/python3.7/dist-packages (from scikit-learn->sklearn) (1.1.0)\n"
          ]
        }
      ]
    }
  ]
}